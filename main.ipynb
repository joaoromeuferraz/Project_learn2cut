{
 "cells": [
  {
   "cell_type": "code",
   "execution_count": 1,
   "id": "1fd7ba87-1e2c-45f8-bbb2-36f996944611",
   "metadata": {},
   "outputs": [
    {
     "name": "stderr",
     "output_type": "stream",
     "text": [
      "2022-12-15 08:20:24.450696: I tensorflow/core/platform/cpu_feature_guard.cc:193] This TensorFlow binary is optimized with oneAPI Deep Neural Network Library (oneDNN) to use the following CPU instructions in performance-critical operations:  AVX2 FMA\n",
      "To enable them in other operations, rebuild TensorFlow with the appropriate compiler flags.\n",
      "2022-12-15 08:20:25.534506: W tensorflow/compiler/xla/stream_executor/platform/default/dso_loader.cc:64] Could not load dynamic library 'libnvinfer.so.7'; dlerror: libnvinfer.so.7: cannot open shared object file: No such file or directory; LD_LIBRARY_PATH: /usr/local/cuda/lib64:/usr/local/nccl2/lib:/usr/local/cuda/extras/CUPTI/lib64\n",
      "2022-12-15 08:20:25.534644: W tensorflow/compiler/xla/stream_executor/platform/default/dso_loader.cc:64] Could not load dynamic library 'libnvinfer_plugin.so.7'; dlerror: libnvinfer_plugin.so.7: cannot open shared object file: No such file or directory; LD_LIBRARY_PATH: /usr/local/cuda/lib64:/usr/local/nccl2/lib:/usr/local/cuda/extras/CUPTI/lib64\n",
      "2022-12-15 08:20:25.534659: W tensorflow/compiler/tf2tensorrt/utils/py_utils.cc:38] TF-TRT Warning: Cannot dlopen some TensorRT libraries. If you would like to use Nvidia GPU with TensorRT, please make sure the missing libraries mentioned above are installed properly.\n"
     ]
    }
   ],
   "source": [
    "from main import main\n",
    "from config import easy_config, hard_config"
   ]
  },
  {
   "cell_type": "markdown",
   "id": "594f30d6-9982-4127-bd6b-8e5c7d6e7781",
   "metadata": {},
   "source": [
    "## Setting run configurations"
   ]
  },
  {
   "cell_type": "code",
   "execution_count": 2,
   "id": "c512c123-968c-43ed-9ba7-95f1b9b13588",
   "metadata": {},
   "outputs": [],
   "source": [
    "params_1 = {\n",
    "    \"run_name\": \"easy_config1\",\n",
    "    \"config\": easy_config,\n",
    "    \"r_thresh\": [0.2, 0.4, 0.8],\n",
    "    \"params_thresh\": [(0.001, 10, 0.2), (0.001, 10, 0.2), (0.001, 10, 0.2), (0.001, 10, 0.2)],\n",
    "    \"num_eval\": 10,\n",
    "    \"num_cuts\": 10,\n",
    "    \"gamma\": 1.,\n",
    "    \"strategies\": [\"es\", \"pg\"],\n",
    "    \"units\": [64, 64, 64],\n",
    "    \"activations\": ['relu', 'relu', 'linear'],\n",
    "    \"num_episodes\": 50,\n",
    "    \"num_test\": 20\n",
    "}\n",
    "\n",
    "params_2 = params_1.copy()\n",
    "params_2[\"run_name\"] = \"easy_config2\"\n",
    "params_2[\"params_thresh\"] = [(0.1, 10, 0.2), (0.01, 10, 0.2), (0.001, 10, 0.2), (0.0001, 10, 0.2)]\n",
    "\n",
    "params_3 = params_1.copy()\n",
    "params_3[\"run_name\"] = \"easy_config3\"\n",
    "params_3[\"params_thresh\"] = [(0.1, 10, 0.3), (0.01, 10, 0.2), (0.001, 10, 0.1), (0.0001, 10, 0.05)]\n",
    "\n",
    "params_4 = params_1.copy()\n",
    "params_4[\"run_name\"] = \"hard_config1\"\n",
    "params_4[\"config\"] = hard_config\n",
    "\n",
    "params_5 = params_1.copy()\n",
    "params_5[\"run_name\"] = \"hard_config2\"\n",
    "params_5[\"config\"] = hard_config\n",
    "params_5[\"params_thresh\"] = [(0.1, 10, 0.2), (0.01, 10, 0.2), (0.001, 10, 0.2), (0.0001, 10, 0.2)]\n",
    "\n",
    "params_6 = params_1.copy()\n",
    "params_6[\"run_name\"] = \"hard_config3\"\n",
    "params_6[\"config\"] = hard_config\n",
    "params_6[\"params_thresh\"] = [(0.1, 10, 0.3), (0.01, 10, 0.2), (0.001, 10, 0.1), (0.0001, 10, 0.05)]\n",
    "\n",
    "test_params = params_1.copy()\n",
    "test_params[\"run_name\"] = \"test_config\"\n",
    "test_params[\"r_thresh\"] = [0.2]\n",
    "test_params[\"params_thresh\"] = [(0.1, 3, 0.2), (0.1, 3, 0.2)]\n",
    "test_params[\"num_eval\"] = 3\n",
    "test_params[\"num_cuts\"] = 3\n",
    "test_params[\"num_episodes\"] = 1\n",
    "test_params[\"num_test\"] = 1\n",
    "test_params[\"strategies\"] = [\"pg\"]"
   ]
  },
  {
   "cell_type": "markdown",
   "id": "74f0f36f-0f30-4d4e-9ec4-ec5f79bbc3e5",
   "metadata": {},
   "source": [
    "### Running with test parameters"
   ]
  },
  {
   "cell_type": "code",
   "execution_count": null,
   "id": "778bdd65-d853-4df1-96dd-14860659adcb",
   "metadata": {},
   "outputs": [
    {
     "name": "stdout",
     "output_type": "stream",
     "text": [
      "loading training instances, dir instances/train_10_n60_m60 idx 0\n",
      "loading training instances, dir instances/train_10_n60_m60 idx 1\n",
      "loading training instances, dir instances/train_10_n60_m60 idx 2\n",
      "loading training instances, dir instances/train_10_n60_m60 idx 3\n",
      "loading training instances, dir instances/train_10_n60_m60 idx 4\n",
      "loading training instances, dir instances/train_10_n60_m60 idx 5\n",
      "loading training instances, dir instances/train_10_n60_m60 idx 6\n",
      "loading training instances, dir instances/train_10_n60_m60 idx 7\n",
      "loading training instances, dir instances/train_10_n60_m60 idx 8\n",
      "loading training instances, dir instances/train_10_n60_m60 idx 9\n"
     ]
    },
    {
     "name": "stderr",
     "output_type": "stream",
     "text": [
      "\u001b[34m\u001b[1mwandb\u001b[0m: Currently logged in as: \u001b[33mjrferraz\u001b[0m (\u001b[33morcs4529\u001b[0m). Use \u001b[1m`wandb login --relogin`\u001b[0m to force relogin\n"
     ]
    },
    {
     "data": {
      "text/html": [
       "wandb version 0.13.7 is available!  To upgrade, please run:\n",
       " $ pip install wandb --upgrade"
      ],
      "text/plain": [
       "<IPython.core.display.HTML object>"
      ]
     },
     "metadata": {},
     "output_type": "display_data"
    },
    {
     "data": {
      "text/html": [
       "Tracking run with wandb version 0.13.6"
      ],
      "text/plain": [
       "<IPython.core.display.HTML object>"
      ]
     },
     "metadata": {},
     "output_type": "display_data"
    },
    {
     "data": {
      "text/html": [
       "Run data is saved locally in <code>/home/jupyter/Project_learn2cut/wandb/run-20221215_082028-2rdk8865</code>"
      ],
      "text/plain": [
       "<IPython.core.display.HTML object>"
      ]
     },
     "metadata": {},
     "output_type": "display_data"
    },
    {
     "data": {
      "text/html": [
       "Syncing run <strong><a href=\"https://wandb.ai/orcs4529/finalproject/runs/2rdk8865\" target=\"_blank\">leafy-hill-3470</a></strong> to <a href=\"https://wandb.ai/orcs4529/finalproject\" target=\"_blank\">Weights & Biases</a> (<a href=\"https://wandb.me/run\" target=\"_blank\">docs</a>)<br/>"
      ],
      "text/plain": [
       "<IPython.core.display.HTML object>"
      ]
     },
     "metadata": {},
     "output_type": "display_data"
    },
    {
     "name": "stdout",
     "output_type": "stream",
     "text": [
      "\n",
      "--------------RUNNING POLICY GRADIENT ALGORITHM--------------\n",
      "\n",
      "Restricted license - for non-production use only - expires 2024-10-28\n"
     ]
    },
    {
     "name": "stderr",
     "output_type": "stream",
     "text": [
      "2022-12-15 08:20:34.319287: W tensorflow/compiler/xla/stream_executor/platform/default/dso_loader.cc:64] Could not load dynamic library 'libcuda.so.1'; dlerror: libcuda.so.1: cannot open shared object file: No such file or directory; LD_LIBRARY_PATH: /usr/local/cuda/lib64:/usr/local/nccl2/lib:/usr/local/cuda/extras/CUPTI/lib64\n",
      "2022-12-15 08:20:34.319345: W tensorflow/compiler/xla/stream_executor/cuda/cuda_driver.cc:265] failed call to cuInit: UNKNOWN ERROR (303)\n",
      "2022-12-15 08:20:34.319378: I tensorflow/compiler/xla/stream_executor/cuda/cuda_diagnostics.cc:156] kernel driver does not appear to be running on this host (learn2cut): /proc/driver/nvidia/version does not exist\n",
      "2022-12-15 08:20:34.320652: I tensorflow/core/platform/cpu_feature_guard.cc:193] This TensorFlow binary is optimized with oneAPI Deep Neural Network Library (oneDNN) to use the following CPU instructions in performance-critical operations:  AVX2 FMA\n",
      "To enable them in other operations, rebuild TensorFlow with the appropriate compiler flags.\n"
     ]
    },
    {
     "name": "stdout",
     "output_type": "stream",
     "text": [
      "Episode 1\n",
      "Simulating 3 trajectories...\n",
      "Estimating gradient...\n",
      "Evaluating rewards...\n"
     ]
    }
   ],
   "source": [
    "main(**test_params)"
   ]
  },
  {
   "cell_type": "markdown",
   "id": "3556da63-df31-480f-a67e-a817c357632d",
   "metadata": {},
   "source": [
    "### Parameter set 1"
   ]
  },
  {
   "cell_type": "code",
   "execution_count": null,
   "id": "7ad8587c-682f-4158-b404-db6b0b1da892",
   "metadata": {},
   "outputs": [],
   "source": [
    "main(**params_1)"
   ]
  },
  {
   "cell_type": "markdown",
   "id": "1694dfed-de68-454d-98cd-4799b158abb7",
   "metadata": {},
   "source": [
    "### Parameter set 2"
   ]
  },
  {
   "cell_type": "code",
   "execution_count": null,
   "id": "f7a3acef-d723-4f34-8fa6-c3625eb9755d",
   "metadata": {},
   "outputs": [],
   "source": [
    "main(**params_2)"
   ]
  },
  {
   "cell_type": "markdown",
   "id": "11d902bf-b8e9-420b-8431-db26b4db7a4f",
   "metadata": {},
   "source": [
    "### Parameter set 3"
   ]
  },
  {
   "cell_type": "code",
   "execution_count": null,
   "id": "53c6a3d7-85ec-4849-b0da-51738e2664ef",
   "metadata": {},
   "outputs": [],
   "source": [
    "main(**params_3)"
   ]
  },
  {
   "cell_type": "markdown",
   "id": "6ff87d40-3eb3-4688-9876-528efdc30517",
   "metadata": {},
   "source": [
    "### Parameter set 4"
   ]
  },
  {
   "cell_type": "code",
   "execution_count": null,
   "id": "aaa0a005-0128-4467-bb41-a172e58e836e",
   "metadata": {},
   "outputs": [],
   "source": [
    "main(**params_4)"
   ]
  },
  {
   "cell_type": "markdown",
   "id": "35678071-6e69-4410-8ecb-17efe31b2c45",
   "metadata": {},
   "source": [
    "### Parameter set 5"
   ]
  },
  {
   "cell_type": "code",
   "execution_count": null,
   "id": "eca1e0db-cee3-4a9f-bd0e-f24307afe4df",
   "metadata": {},
   "outputs": [],
   "source": [
    "main(**params_5)"
   ]
  },
  {
   "cell_type": "markdown",
   "id": "bba25dda-eebe-4e89-a587-27dad151fce4",
   "metadata": {},
   "source": [
    "### Parameter set 6"
   ]
  },
  {
   "cell_type": "code",
   "execution_count": null,
   "id": "0d418286-c644-4209-b77d-afaf179387c1",
   "metadata": {},
   "outputs": [],
   "source": [
    "main(**params_6)"
   ]
  },
  {
   "cell_type": "markdown",
   "id": "67e1b0c7-e9e8-42e1-bc43-36ebd5a239ec",
   "metadata": {},
   "source": [
    "## Visualizations"
   ]
  },
  {
   "cell_type": "code",
   "execution_count": null,
   "id": "ba0c1784-3d6e-4af4-9d03-b520c017af2e",
   "metadata": {},
   "outputs": [],
   "source": [
    "# import matploblib.pyplot as plt"
   ]
  },
  {
   "cell_type": "code",
   "execution_count": null,
   "id": "17db897a-d498-49a8-8adc-6ea69d3d0fee",
   "metadata": {},
   "outputs": [],
   "source": [
    "# for strategy in strategies:\n",
    "#     train_rrecord = np.load(f\"results/{run_name}/{strategy}/train_rrecord.npy\")\n",
    "#     test_rrecord = np.load(f\"results/{run_name}/{strategy}/test_rrecord.npy\")\n",
    "    \n",
    "#     train_ma = pd.Series(train_rrecord, index=np.arange(len(train_rrecord))+1).rolling(\n",
    "    \n",
    "#     fig, ax = plt.subplots((2, 2), figsize=(16, 6))\n",
    "#     ax[0].plot(np.arange(train_rrecord)+1, train_rrecord\n",
    "    "
   ]
  }
 ],
 "metadata": {
  "environment": {
   "kernel": "python3",
   "name": "tf2-gpu.2-8.m100",
   "type": "gcloud",
   "uri": "gcr.io/deeplearning-platform-release/tf2-gpu.2-8:m100"
  },
  "kernelspec": {
   "display_name": "Python 3",
   "language": "python",
   "name": "python3"
  },
  "language_info": {
   "codemirror_mode": {
    "name": "ipython",
    "version": 3
   },
   "file_extension": ".py",
   "mimetype": "text/x-python",
   "name": "python",
   "nbconvert_exporter": "python",
   "pygments_lexer": "ipython3",
   "version": "3.7.12"
  }
 },
 "nbformat": 4,
 "nbformat_minor": 5
}
